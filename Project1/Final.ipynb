{
 "cells": [
  {
   "cell_type": "markdown",
   "metadata": {},
   "source": [
    "<h1>Project 1</h1>\n",
    "\n",
    "By Rishi Shah (rs6wt), Tarun Donipati (td3qn), and Yash Kolli (ysk6dw)\n",
    "\n",
    "<h2>Introduction</h2>\n",
    "\n",
    "In this project, our team has worked to analyze raw data and create a recommendations engine which maximizes utility for customer of a given product. In this first step, we are reading in the data and importing packages necessary for our program."
   ]
  },
  {
   "cell_type": "code",
   "execution_count": 1,
   "metadata": {},
   "outputs": [],
   "source": [
    "import pandas as pd\n",
    "import numpy as np\n",
    "from datetime import datetime\n",
    "import sklearn\n",
    "import statistics\n",
    "import time, sys\n",
    "from IPython.display import clear_output\n",
    "import matplotlib.pyplot as plt\n",
    "from sklearn import linear_model\n",
    "from sklearn.model_selection import train_test_split\n",
    "df = pd.read_csv (\"features1.csv\")"
   ]
  },
  {
   "cell_type": "markdown",
   "metadata": {},
   "source": [
    "<h2>Data Cleaning</h2>\n",
    "\n",
    "This data (<em>features1.csv</em>) is the cleaned version of the raw data (<em>scanner.csv</em>).\n",
    "Below are the steps we took to get from the raw data to the cleaned data."
   ]
  },
  {
   "cell_type": "markdown",
   "metadata": {},
   "source": [
    "First, we read in <em>scanner_data.csv</em> into the data variable and display the first five rows of the data along with the number of unique customer IDs and number of SKUs"
   ]
  },
  {
   "cell_type": "code",
   "execution_count": 2,
   "metadata": {},
   "outputs": [
    {
     "name": "stdout",
     "output_type": "stream",
     "text": [
      "Number of Customer_ID 22625\n",
      "Number of SKU   5242\n"
     ]
    }
   ],
   "source": [
    "data = pd.read_csv (\"scanner_data.csv\")\n",
    "data.head()\n",
    "print(  \"Number of Customer_ID\",    len(pd.unique(data['Customer_ID']))  )\n",
    "print(  \"Number of SKU  \",    len(pd.unique(data['SKU']))  )"
   ]
  },
  {
   "cell_type": "markdown",
   "metadata": {},
   "source": [
    "Next, we create a range of 52 weeks, encompassing each week in 2016, and label each transaction within the week they occur."
   ]
  },
  {
   "cell_type": "code",
   "execution_count": 3,
   "metadata": {},
   "outputs": [],
   "source": [
    "data['Date'] = pd.to_datetime(data['Date'], format = '%d/%m/%Y')\n",
    "data = data.drop(columns=['Unnamed: 0'])\n",
    "data['Week'] = data['Date'].dt.isocalendar().week\n",
    "data['Week'] = data['Week'].replace(53, 0)\n",
    "data['Bought'] = [1]*len(data)"
   ]
  },
  {
   "cell_type": "code",
   "execution_count": 4,
   "metadata": {},
   "outputs": [],
   "source": [
    "def toDate(week):\n",
    "    d = \"2016-W\" + str(week)\n",
    "    r = datetime.strptime(d + '-1', '%G-W%V-%u')\n",
    "    r = pd.to_datetime(r, format = '%d/%m/%Y')\n",
    "    return r"
   ]
  },
  {
   "cell_type": "markdown",
   "metadata": {},
   "source": [
    "Here, we create the proxy variable <strong><em>no_show</em></strong>. The purpose of <strong><em>no_show</em></strong> is to portray the users decision to buy or not buy. This is important because the buy decision signals utility while a decision not to buy signals a lack of utility.\n",
    "\n",
    "The way we add this to our dataframe is to add a row per each customer for every week that a customer doesn't buy a product. The product name is labeled as No_Show and all the values within that row are set to 0, as no transaction is made."
   ]
  },
  {
   "cell_type": "code",
   "execution_count": 5,
   "metadata": {},
   "outputs": [],
   "source": [
    "# allCustomers = data['Customer_ID'].unique()\n",
    "# weeks = range(0,53)\n",
    "# for c in range(18552,len(allCustomers)):\n",
    "#     custData = data[data['Customer_ID'] == allCustomers[c]]\n",
    "#     week = list(custData['Week'].unique())\n",
    "#     noShow = list(set(weeks) - set(week))\n",
    "#     for w in noShow:\n",
    "#         item = pd.DataFrame([[allCustomers[c], \"NOSHOW\", w, 0, 0, 1, -1, \"NS\", toDate(w)]], \n",
    "#                             columns = [\"Customer_ID\",\"SKU\",\"Week\",\"Sales_Amount\",\"Quantity\",\"Bought\", \"Transaction_ID\", \"SKU_Category\", \"Date\"])\n",
    "#         data = pd.concat([data, item], ignore_index=True)"
   ]
  },
  {
   "cell_type": "markdown",
   "metadata": {},
   "source": [
    "As we make progress, we save the new dataframes as csv files as this allows us"
   ]
  },
  {
   "cell_type": "code",
   "execution_count": 6,
   "metadata": {},
   "outputs": [],
   "source": [
    "# data.to_csv('transactions.csv', index = False)"
   ]
  },
  {
   "cell_type": "markdown",
   "metadata": {},
   "source": [
    "<h2>Feature Engineering</h2>\n",
    "\n",
    "To train our model to consider the best utility calculations, we include many features which we derived from our existing cleaned data. Each feature calculates a customer-based metric that helps increase the accuracy of a recommendation to the customer. When training our model, these features are compiled into a feature vector, which then help to calculate utility for our model.\n",
    "\n",
    "Let's explore these features!"
   ]
  },
  {
   "cell_type": "markdown",
   "metadata": {},
   "source": [
    "Our first feature is Week. This calculates the week in which the transaction was made. It is calculated by dividing dates into a range of 52 weeks and classifying each transaction into the week it happened."
   ]
  },
  {
   "cell_type": "code",
   "execution_count": 7,
   "metadata": {},
   "outputs": [],
   "source": [
    "# allCustomers = data['Customer_ID'].unique()\n",
    "# weeks = range(0,53)\n",
    "# for c in range(18552,len(allCustomers)):\n",
    "#     custData = data[data['Customer_ID'] == allCustomers[c]]\n",
    "#     week = list(custData['Week'].unique())\n",
    "#     noShow = list(set(weeks) - set(week))\n",
    "\n",
    "# data"
   ]
  },
  {
   "cell_type": "markdown",
   "metadata": {},
   "source": [
    "The second feature is repurchase rate. This measures how often the customer repurchases a particular product. The intuition behind this feature is that a customer who has more utility for a certain product will buy it more often. As such, the repurchase rate should be high for a high-utility customer. This is calculated by dividing the number of specific products within a customer over the number of customers."
   ]
  },
  {
   "cell_type": "code",
   "execution_count": 8,
   "metadata": {},
   "outputs": [],
   "source": [
    "# repurchaseRate = []\n",
    "\n",
    "# for c in range(len(data['Customer_ID'])):\n",
    "#     #calculate customer repurchase rate\n",
    "#     custData = data.loc[data['Customer_ID'] == data['Customer_ID'][c]]\n",
    "#     specificProds = custData['SKU'].unique()\n",
    "#     repurchaseRate.append(len(specificProds)/len(custData))\n",
    "    \n",
    "# data['repurchase_rate'] = repurchaseRate\n",
    "\n",
    "# data"
   ]
  },
  {
   "cell_type": "markdown",
   "metadata": {},
   "source": [
    "Products per Sale measures the average number of products in a particular transaction. The higher the number, the more utility the customer has for the store. This is calculated by taking the quantity divided by the number of specific sales."
   ]
  },
  {
   "cell_type": "code",
   "execution_count": 9,
   "metadata": {},
   "outputs": [],
   "source": [
    "# prodsPerSale = []\n",
    "\n",
    "# for c in range(len(data['Customer_ID'])):\n",
    "#     #calculate products per sale\n",
    "#     specificSales = custData['Transaction_ID'].unique()\n",
    "#     quant = np.sum(np.array(custData['Quantity']))\n",
    "#     avgQuant = quant/len(specificSales)\n",
    "#     prodsPerSale.append(avgQuant)\n",
    "\n",
    "# data['products_per_sale'] = prodsPerSale\n"
   ]
  },
  {
   "cell_type": "markdown",
   "metadata": {},
   "source": [
    "Total transactions records the number of transactions the customer makes in our data timeframe. The higher the number, the more utility the customer has for the store. It is calculated by taking the tally of unique transaction IDs within a customer's data."
   ]
  },
  {
   "cell_type": "code",
   "execution_count": 10,
   "metadata": {},
   "outputs": [],
   "source": [
    "# totalTrans = []\n",
    "\n",
    "# for c in range(len(data['Customer_ID'])):\n",
    "#      #calculate total transactions\n",
    "#     numTrans = len(custData)\n",
    "#     totalTrans.append(numTrans)\n",
    "\n",
    "# data['total_transactions'] = totalTrans"
   ]
  },
  {
   "cell_type": "markdown",
   "metadata": {},
   "source": [
    "Total Spent finds the total amount the customer spends in our data timeframe. The higher the number, the more utility the customer has for the store. It is calculated by taking the sum of all sales amounts within a customer's data."
   ]
  },
  {
   "cell_type": "code",
   "execution_count": 11,
   "metadata": {},
   "outputs": [],
   "source": [
    "# totalSpent = []\n",
    "\n",
    "# for c in range(len(data['Customer_ID'])):\n",
    "#     #calculate total amount spent by customer\n",
    "#     spent = np.sum(custData['Sales_Amount'])\n",
    "#     totalSpent.append(spent)\n",
    "\n",
    "# data['total_spent'] = totalSpent"
   ]
  },
  {
   "cell_type": "markdown",
   "metadata": {},
   "source": [
    "Proportion of categories measures how many of the customer's purchased SKUs fall into a SKU Category. The higher the number, the more utility the customer has for that particular category. It is calculated by taking the number of unique SKU Categories in customer data and dividing it by total number of SKU Categories."
   ]
  },
  {
   "cell_type": "code",
   "execution_count": 12,
   "metadata": {},
   "outputs": [],
   "source": [
    "# proportionCategories = []\n",
    "\n",
    "# for c in range(len(data['Customer_ID'])):\n",
    "#     #calculate proportion categories\n",
    "#     specificCategories = custData['SKU_Category'].unique()\n",
    "#     prop = len(specificCategories)/187\n",
    "#     proportionCategories.append(prop)\n",
    "\n",
    "# data['proportion_categories'] = proportionCategories"
   ]
  },
  {
   "cell_type": "markdown",
   "metadata": {},
   "source": [
    "Average spent per transaction measures how much money is spent on average in one transaction. The greater the amount, the greater the utility for the store. This is calculated by taking the total amount spent in each transaction and finding the mean."
   ]
  },
  {
   "cell_type": "code",
   "execution_count": 13,
   "metadata": {},
   "outputs": [],
   "source": [
    "# ratios = []\n",
    "# for customer in data['Customer_ID']:\n",
    "#     temp_df = data.loc[data['Customer_ID'] == customer]\n",
    "#     total_sum = 0\n",
    "#     for i in range(0, len(temp_df)):\n",
    "#         total_sum = total_sum + int(data.iloc[i]['Quantity']) * int(data.iloc[i]['Sales_Amount'])\n",
    "#     ratio = total_sum / len(temp_df['Transaction_ID'].unique())\n",
    "#     ratios.append(ratio)\n",
    "# data['avg_spent_transaction'] = ratios"
   ]
  },
  {
   "cell_type": "markdown",
   "metadata": {},
   "source": [
    "Average quantity bought per transaction measures the average number of products an individual customer bought in a single transaction. The higher the number, the more utility the customer has for the store. This is calculated by summing the total number of products bought in each transaction and dividing by the total number of transactions."
   ]
  },
  {
   "cell_type": "code",
   "execution_count": 14,
   "metadata": {},
   "outputs": [],
   "source": [
    "# # Average Quantity of Item Bought\n",
    "# avg_quant_per_item = []\n",
    "\n",
    "# for customer in data['Customer_ID']:\n",
    "#     temp_df = data.loc[data['Customer_ID'] == customer]\n",
    "#     quant = np.sum(temp_df['Quantity'])\n",
    "#     totaltrans = len(temp_df)\n",
    "#     avg_quant = quant/totaltrans\n",
    "#     avg_quant_per_item.append(avg_quant)\n",
    "\n",
    "# data['avg_quant_item'] = avg_quant_per_item"
   ]
  },
  {
   "cell_type": "markdown",
   "metadata": {},
   "source": [
    "SKU Category standard deviation finds the standard deviation of SKUs bought in an individual SKU Category. In a sense, we are measuring the variation in the customer data. The higher the number, the greater the variety of product bought, and the more utility a customer has for the store."
   ]
  },
  {
   "cell_type": "code",
   "execution_count": 15,
   "metadata": {},
   "outputs": [],
   "source": [
    "# # SKU Category Standard Deviation\n",
    "# import statistics\n",
    "\n",
    "# standard_deviation = []\n",
    "\n",
    "# for c in range(len(data['Customer_ID'])):\n",
    "#     sku_list = data.loc[data['Customer_ID'] == data['Customer_ID'][c]]['SKU_Category'].unique()\n",
    "#     stdev_list = []\n",
    "#     for sku in sku_list:\n",
    "#         temp_df = data.loc[data['Customer_ID'] == data['Customer_ID'][c]][data['SKU_Category'] == sku]\n",
    "#         stdev_list.append(np.sum(temp_df['Quantity']))\n",
    "#     stdev = statistics.pstdev(stdev_list)\n",
    "#     standard_deviation.append(stdev)\n",
    "\n",
    "# data['sku_category_sd'] = standard_deviation"
   ]
  },
  {
   "cell_type": "markdown",
   "metadata": {},
   "source": [
    "Transaction rate Before/After Trump finds whether transactions for a customer increased after Trump's election or before Trump's election. Essentially, we are trying to find how the political environment affects buying patterns and whether an election can increase user demand for products. This is calculated by a categorical variable marked 0 if transactions increased after election and 1 if transactions decreased or stayed the same after the election."
   ]
  },
  {
   "cell_type": "code",
   "execution_count": 16,
   "metadata": {},
   "outputs": [],
   "source": [
    "# beforeTrump = []\n",
    "# df['Date'] = pd.to_datetime(df['Date'], format = '%d/%m/%Y')\n",
    "# TrumpElection = datetime(2016, 11, 8)\n",
    "# for c in range(len(data['Customer_ID'])):\n",
    "#     custData = df.loc[df['Customer_ID'] == data['Customer_ID'][c]]\n",
    "#     totalTrans = len(custData['Transaction_ID'].unique())\n",
    "#     preTrump = df.loc[df['Date'] < TrumpElection]\n",
    "#     transactionsPerDayBeforeTrump = len(preTrump['Transaction_ID'].unique())/312\n",
    "#     transactionsPerDayAfterTrump = (totalTrans - len(preTrump['Transaction_ID'].unique()))/53\n",
    "#     if transactionsPerDayAfterTrump > transactionsPerDayBeforeTrump:\n",
    "#         beforeTrump.append(0)\n",
    "#     else:\n",
    "#         beforeTrump.append(1)\n",
    "# data['transaction_rate_trump'] = beforeTrump"
   ]
  },
  {
   "cell_type": "markdown",
   "metadata": {},
   "source": [
    "These features are then added as columns next to our transactions.csv dataframe and saved as the <em>features1.csv</em> file"
   ]
  },
  {
   "cell_type": "markdown",
   "metadata": {},
   "source": [
    "<h2>Regression and Training</h2>\n",
    "\n",
    "After obtaining our cleaned dataset, we must then train our model to find the utility and probability of a customer's utility for a product given our feature vector. Then, we can use a multinomial logistic regression to classify and recommend products based on a given feature vector."
   ]
  },
  {
   "cell_type": "markdown",
   "metadata": {},
   "source": [
    "In our first step, we must outline the explanatory and response variables for our regression. Our explanatory variables are our features. These features consist of:\n",
    "<ul>\n",
    "    <li>Week</li>\n",
    "    <li>Repurchase Rate</li>\n",
    "    <li>Products per Sale</li>\n",
    "    <li>Total Transactions</li>\n",
    "    <li>Total Spent</li>\n",
    "    <li>Proportion Categories</li>\n",
    "    <li>Average Spent per Transaction</li>\n",
    "    <li>Average Quantity Bought per Transaction</li>\n",
    "    <li>SKU Category</li>\n",
    "    <li>Transaction Rate Before/After Trump</li>\n",
    "    <li>Price</li>\n",
    "</ul>\n",
    "\n",
    "Our response variable is the SKU_Map, as we are trying to find the product to recommend based on our feature vector."
   ]
  },
  {
   "cell_type": "markdown",
   "metadata": {},
   "source": [
    "Because our data consists of more than a million rows, training on the whole data would take up tons of computing resources and runtime is calculated to be more than a week. Instead, our team decided to train our model on 1% of the cleaned data, sampling 13000 rows. We then split this data into 80% training data and 20% test data."
   ]
  },
  {
   "cell_type": "code",
   "execution_count": 17,
   "metadata": {},
   "outputs": [],
   "source": [
    "df = df.sample(n=13000, random_state=5)\n",
    "y = df['SKU_Map']\n",
    "features = ['Week', 'repurchase_rate','products_per_sale', 'total_transactions','total_spent', 'proportion_categories', 'avg_spent_transaction', 'avg_quant_item', 'sku_category_sd', 'transaction_rate_trump', 'Price']\n",
    "X = df[features]\n",
    "X_train, X_test, y_train, y_test = train_test_split(X, y, test_size=0.2)"
   ]
  },
  {
   "cell_type": "markdown",
   "metadata": {},
   "source": [
    "Then, we outline our logistic regression model to be a multinomial regressor using the Stochastic Average Gradient solver. Let's explore these terms in a little more. A multinomial logistic regressor is an extension of the binary classifier logistic regressor where the regression can classify to more than two categories. In this case, we are using the multinomial regression to classify our feature vector to the many SKU_Map categories.\n",
    "\n",
    "A solver for logistic regression is the way in which a logistic regression converges and optimizes the parameters through gradient descent. Gradient descent finds the optimal set of parameters by minimizing the convex loss function. This particular solver <strong><em>saga</em></strong> (Stochastic Average Gradient) allows for fast optimization of larger data sets and allows for L1 Regularization (<em>Lasso regression</em>) which specifies the absolute value of magnitute of coefficient as the penalty for overcomplexity.  "
   ]
  },
  {
   "cell_type": "code",
   "execution_count": 18,
   "metadata": {},
   "outputs": [],
   "source": [
    "# model=sklearn.linear_model.LogisticRegression(multi_class='multinomial', penalty='none', solver='sag', max_iter=100)\n",
    "# model.fit(X_train, y_train)"
   ]
  },
  {
   "cell_type": "markdown",
   "metadata": {},
   "source": [
    "Due to the massive dataset that included the no show weeks (about 1.3 million observations), the regression would have taken days to run. However, by excluding these extra rows, we are able to reduce the size of the dataset to (about 130,000 observations). We were able to train this model with a 70 - 30 train test split in nearly 85 minutes\n",
    "\n",
    "Why might it have taken so long to train?\n",
    "\n",
    "There is some correlation between features, as shown below, which slows down convergence.\n"
   ]
  },
  {
   "cell_type": "code",
   "execution_count": 19,
   "metadata": {},
   "outputs": [
    {
     "data": {
      "text/html": [
       "<div>\n",
       "<style scoped>\n",
       "    .dataframe tbody tr th:only-of-type {\n",
       "        vertical-align: middle;\n",
       "    }\n",
       "\n",
       "    .dataframe tbody tr th {\n",
       "        vertical-align: top;\n",
       "    }\n",
       "\n",
       "    .dataframe thead th {\n",
       "        text-align: right;\n",
       "    }\n",
       "</style>\n",
       "<table border=\"1\" class=\"dataframe\">\n",
       "  <thead>\n",
       "    <tr style=\"text-align: right;\">\n",
       "      <th></th>\n",
       "      <th>Date</th>\n",
       "      <th>Customer_ID</th>\n",
       "      <th>Transaction_ID</th>\n",
       "      <th>SKU_Category</th>\n",
       "      <th>SKU</th>\n",
       "      <th>Quantity</th>\n",
       "      <th>Sales_Amount</th>\n",
       "      <th>Week</th>\n",
       "      <th>repurchase_rate</th>\n",
       "      <th>products_per_sale</th>\n",
       "      <th>total_transactions</th>\n",
       "      <th>total_spent</th>\n",
       "      <th>proportion_categories</th>\n",
       "      <th>avg_spent_transaction</th>\n",
       "      <th>avg_quant_item</th>\n",
       "      <th>sku_category_sd</th>\n",
       "      <th>transaction_rate_trump</th>\n",
       "      <th>SKU_Map</th>\n",
       "      <th>Price</th>\n",
       "    </tr>\n",
       "  </thead>\n",
       "  <tbody>\n",
       "    <tr>\n",
       "      <th>0</th>\n",
       "      <td>2016-01-02</td>\n",
       "      <td>2547</td>\n",
       "      <td>1</td>\n",
       "      <td>X52</td>\n",
       "      <td>0EM7L</td>\n",
       "      <td>1.0</td>\n",
       "      <td>3.13</td>\n",
       "      <td>0</td>\n",
       "      <td>0.875</td>\n",
       "      <td>3.142857</td>\n",
       "      <td>16</td>\n",
       "      <td>121.36</td>\n",
       "      <td>0.058824</td>\n",
       "      <td>12.714286</td>\n",
       "      <td>1.375</td>\n",
       "      <td>1.595448</td>\n",
       "      <td>1</td>\n",
       "      <td>0</td>\n",
       "      <td>3.13</td>\n",
       "    </tr>\n",
       "    <tr>\n",
       "      <th>1</th>\n",
       "      <td>2016-01-04</td>\n",
       "      <td>2547</td>\n",
       "      <td>332</td>\n",
       "      <td>Q4N</td>\n",
       "      <td>MM3E0</td>\n",
       "      <td>1.0</td>\n",
       "      <td>12.69</td>\n",
       "      <td>1</td>\n",
       "      <td>0.875</td>\n",
       "      <td>3.142857</td>\n",
       "      <td>16</td>\n",
       "      <td>121.36</td>\n",
       "      <td>0.058824</td>\n",
       "      <td>12.714286</td>\n",
       "      <td>1.375</td>\n",
       "      <td>1.595448</td>\n",
       "      <td>1</td>\n",
       "      <td>1</td>\n",
       "      <td>12.69</td>\n",
       "    </tr>\n",
       "    <tr>\n",
       "      <th>2</th>\n",
       "      <td>2016-01-25</td>\n",
       "      <td>2547</td>\n",
       "      <td>3743</td>\n",
       "      <td>X52</td>\n",
       "      <td>885U7</td>\n",
       "      <td>1.0</td>\n",
       "      <td>4.95</td>\n",
       "      <td>4</td>\n",
       "      <td>0.875</td>\n",
       "      <td>3.142857</td>\n",
       "      <td>16</td>\n",
       "      <td>121.36</td>\n",
       "      <td>0.058824</td>\n",
       "      <td>12.714286</td>\n",
       "      <td>1.375</td>\n",
       "      <td>1.595448</td>\n",
       "      <td>1</td>\n",
       "      <td>2</td>\n",
       "      <td>4.95</td>\n",
       "    </tr>\n",
       "    <tr>\n",
       "      <th>3</th>\n",
       "      <td>2016-01-25</td>\n",
       "      <td>2547</td>\n",
       "      <td>3743</td>\n",
       "      <td>29A</td>\n",
       "      <td>A59HR</td>\n",
       "      <td>3.0</td>\n",
       "      <td>6.24</td>\n",
       "      <td>4</td>\n",
       "      <td>0.875</td>\n",
       "      <td>3.142857</td>\n",
       "      <td>16</td>\n",
       "      <td>121.36</td>\n",
       "      <td>0.058824</td>\n",
       "      <td>12.714286</td>\n",
       "      <td>1.375</td>\n",
       "      <td>1.595448</td>\n",
       "      <td>1</td>\n",
       "      <td>3</td>\n",
       "      <td>2.08</td>\n",
       "    </tr>\n",
       "    <tr>\n",
       "      <th>4</th>\n",
       "      <td>2016-02-22</td>\n",
       "      <td>2547</td>\n",
       "      <td>8477</td>\n",
       "      <td>L9F</td>\n",
       "      <td>7W8WS</td>\n",
       "      <td>1.0</td>\n",
       "      <td>11.75</td>\n",
       "      <td>8</td>\n",
       "      <td>0.875</td>\n",
       "      <td>3.142857</td>\n",
       "      <td>16</td>\n",
       "      <td>121.36</td>\n",
       "      <td>0.058824</td>\n",
       "      <td>12.714286</td>\n",
       "      <td>1.375</td>\n",
       "      <td>1.595448</td>\n",
       "      <td>1</td>\n",
       "      <td>4</td>\n",
       "      <td>11.75</td>\n",
       "    </tr>\n",
       "    <tr>\n",
       "      <th>...</th>\n",
       "      <td>...</td>\n",
       "      <td>...</td>\n",
       "      <td>...</td>\n",
       "      <td>...</td>\n",
       "      <td>...</td>\n",
       "      <td>...</td>\n",
       "      <td>...</td>\n",
       "      <td>...</td>\n",
       "      <td>...</td>\n",
       "      <td>...</td>\n",
       "      <td>...</td>\n",
       "      <td>...</td>\n",
       "      <td>...</td>\n",
       "      <td>...</td>\n",
       "      <td>...</td>\n",
       "      <td>...</td>\n",
       "      <td>...</td>\n",
       "      <td>...</td>\n",
       "      <td>...</td>\n",
       "    </tr>\n",
       "    <tr>\n",
       "      <th>131701</th>\n",
       "      <td>2016-07-04</td>\n",
       "      <td>5751</td>\n",
       "      <td>32874</td>\n",
       "      <td>LSD</td>\n",
       "      <td>NSGRM</td>\n",
       "      <td>1.0</td>\n",
       "      <td>11.02</td>\n",
       "      <td>27</td>\n",
       "      <td>1.000</td>\n",
       "      <td>3.000000</td>\n",
       "      <td>3</td>\n",
       "      <td>59.59</td>\n",
       "      <td>0.016043</td>\n",
       "      <td>14.000000</td>\n",
       "      <td>1.000</td>\n",
       "      <td>0.000000</td>\n",
       "      <td>1</td>\n",
       "      <td>1780</td>\n",
       "      <td>11.02</td>\n",
       "    </tr>\n",
       "    <tr>\n",
       "      <th>131702</th>\n",
       "      <td>2016-07-04</td>\n",
       "      <td>5751</td>\n",
       "      <td>32874</td>\n",
       "      <td>0H2</td>\n",
       "      <td>9Q5PZ</td>\n",
       "      <td>1.0</td>\n",
       "      <td>7.85</td>\n",
       "      <td>27</td>\n",
       "      <td>1.000</td>\n",
       "      <td>3.000000</td>\n",
       "      <td>3</td>\n",
       "      <td>59.59</td>\n",
       "      <td>0.016043</td>\n",
       "      <td>14.000000</td>\n",
       "      <td>1.000</td>\n",
       "      <td>0.000000</td>\n",
       "      <td>1</td>\n",
       "      <td>2808</td>\n",
       "      <td>7.85</td>\n",
       "    </tr>\n",
       "    <tr>\n",
       "      <th>131703</th>\n",
       "      <td>2016-07-04</td>\n",
       "      <td>5751</td>\n",
       "      <td>32874</td>\n",
       "      <td>D6J</td>\n",
       "      <td>52BYA</td>\n",
       "      <td>1.0</td>\n",
       "      <td>40.72</td>\n",
       "      <td>27</td>\n",
       "      <td>1.000</td>\n",
       "      <td>3.000000</td>\n",
       "      <td>3</td>\n",
       "      <td>59.59</td>\n",
       "      <td>0.016043</td>\n",
       "      <td>14.000000</td>\n",
       "      <td>1.000</td>\n",
       "      <td>0.000000</td>\n",
       "      <td>1</td>\n",
       "      <td>1713</td>\n",
       "      <td>40.72</td>\n",
       "    </tr>\n",
       "    <tr>\n",
       "      <th>131704</th>\n",
       "      <td>2016-07-04</td>\n",
       "      <td>10765</td>\n",
       "      <td>32881</td>\n",
       "      <td>Z4O</td>\n",
       "      <td>6IISH</td>\n",
       "      <td>1.0</td>\n",
       "      <td>1.19</td>\n",
       "      <td>27</td>\n",
       "      <td>1.000</td>\n",
       "      <td>1.000000</td>\n",
       "      <td>1</td>\n",
       "      <td>1.19</td>\n",
       "      <td>0.005348</td>\n",
       "      <td>3.000000</td>\n",
       "      <td>1.000</td>\n",
       "      <td>0.000000</td>\n",
       "      <td>1</td>\n",
       "      <td>1570</td>\n",
       "      <td>1.19</td>\n",
       "    </tr>\n",
       "    <tr>\n",
       "      <th>131705</th>\n",
       "      <td>2016-07-04</td>\n",
       "      <td>11733</td>\n",
       "      <td>32898</td>\n",
       "      <td>N8U</td>\n",
       "      <td>X5TFY</td>\n",
       "      <td>1.0</td>\n",
       "      <td>4.57</td>\n",
       "      <td>27</td>\n",
       "      <td>1.000</td>\n",
       "      <td>1.000000</td>\n",
       "      <td>1</td>\n",
       "      <td>4.57</td>\n",
       "      <td>0.005348</td>\n",
       "      <td>3.000000</td>\n",
       "      <td>1.000</td>\n",
       "      <td>0.000000</td>\n",
       "      <td>1</td>\n",
       "      <td>302</td>\n",
       "      <td>4.57</td>\n",
       "    </tr>\n",
       "  </tbody>\n",
       "</table>\n",
       "<p>131706 rows × 19 columns</p>\n",
       "</div>"
      ],
      "text/plain": [
       "              Date  Customer_ID  Transaction_ID SKU_Category    SKU  Quantity  \\\n",
       "0       2016-01-02         2547               1          X52  0EM7L       1.0   \n",
       "1       2016-01-04         2547             332          Q4N  MM3E0       1.0   \n",
       "2       2016-01-25         2547            3743          X52  885U7       1.0   \n",
       "3       2016-01-25         2547            3743          29A  A59HR       3.0   \n",
       "4       2016-02-22         2547            8477          L9F  7W8WS       1.0   \n",
       "...            ...          ...             ...          ...    ...       ...   \n",
       "131701  2016-07-04         5751           32874          LSD  NSGRM       1.0   \n",
       "131702  2016-07-04         5751           32874          0H2  9Q5PZ       1.0   \n",
       "131703  2016-07-04         5751           32874          D6J  52BYA       1.0   \n",
       "131704  2016-07-04        10765           32881          Z4O  6IISH       1.0   \n",
       "131705  2016-07-04        11733           32898          N8U  X5TFY       1.0   \n",
       "\n",
       "        Sales_Amount  Week  repurchase_rate  products_per_sale  \\\n",
       "0               3.13     0            0.875           3.142857   \n",
       "1              12.69     1            0.875           3.142857   \n",
       "2               4.95     4            0.875           3.142857   \n",
       "3               6.24     4            0.875           3.142857   \n",
       "4              11.75     8            0.875           3.142857   \n",
       "...              ...   ...              ...                ...   \n",
       "131701         11.02    27            1.000           3.000000   \n",
       "131702          7.85    27            1.000           3.000000   \n",
       "131703         40.72    27            1.000           3.000000   \n",
       "131704          1.19    27            1.000           1.000000   \n",
       "131705          4.57    27            1.000           1.000000   \n",
       "\n",
       "        total_transactions  total_spent  proportion_categories  \\\n",
       "0                       16       121.36               0.058824   \n",
       "1                       16       121.36               0.058824   \n",
       "2                       16       121.36               0.058824   \n",
       "3                       16       121.36               0.058824   \n",
       "4                       16       121.36               0.058824   \n",
       "...                    ...          ...                    ...   \n",
       "131701                   3        59.59               0.016043   \n",
       "131702                   3        59.59               0.016043   \n",
       "131703                   3        59.59               0.016043   \n",
       "131704                   1         1.19               0.005348   \n",
       "131705                   1         4.57               0.005348   \n",
       "\n",
       "        avg_spent_transaction  avg_quant_item  sku_category_sd  \\\n",
       "0                   12.714286           1.375         1.595448   \n",
       "1                   12.714286           1.375         1.595448   \n",
       "2                   12.714286           1.375         1.595448   \n",
       "3                   12.714286           1.375         1.595448   \n",
       "4                   12.714286           1.375         1.595448   \n",
       "...                       ...             ...              ...   \n",
       "131701              14.000000           1.000         0.000000   \n",
       "131702              14.000000           1.000         0.000000   \n",
       "131703              14.000000           1.000         0.000000   \n",
       "131704               3.000000           1.000         0.000000   \n",
       "131705               3.000000           1.000         0.000000   \n",
       "\n",
       "        transaction_rate_trump  SKU_Map  Price  \n",
       "0                            1        0   3.13  \n",
       "1                            1        1  12.69  \n",
       "2                            1        2   4.95  \n",
       "3                            1        3   2.08  \n",
       "4                            1        4  11.75  \n",
       "...                        ...      ...    ...  \n",
       "131701                       1     1780  11.02  \n",
       "131702                       1     2808   7.85  \n",
       "131703                       1     1713  40.72  \n",
       "131704                       1     1570   1.19  \n",
       "131705                       1      302   4.57  \n",
       "\n",
       "[131706 rows x 19 columns]"
      ]
     },
     "execution_count": 19,
     "metadata": {},
     "output_type": "execute_result"
    }
   ],
   "source": [
    "final_df = pd.read_csv('features1.csv')\n",
    "final_df = final_df.fillna(0)\n",
    "final_df"
   ]
  },
  {
   "cell_type": "code",
   "execution_count": 20,
   "metadata": {},
   "outputs": [],
   "source": [
    "columns = [7, 8, 9, 10, 11, 12, 13, 14, 15, 16, 18]\n",
    "X = final_df.iloc[:, columns]"
   ]
  },
  {
   "cell_type": "code",
   "execution_count": 21,
   "metadata": {},
   "outputs": [
    {
     "data": {
      "text/html": [
       "<div>\n",
       "<style scoped>\n",
       "    .dataframe tbody tr th:only-of-type {\n",
       "        vertical-align: middle;\n",
       "    }\n",
       "\n",
       "    .dataframe tbody tr th {\n",
       "        vertical-align: top;\n",
       "    }\n",
       "\n",
       "    .dataframe thead th {\n",
       "        text-align: right;\n",
       "    }\n",
       "</style>\n",
       "<table border=\"1\" class=\"dataframe\">\n",
       "  <thead>\n",
       "    <tr style=\"text-align: right;\">\n",
       "      <th></th>\n",
       "      <th>Week</th>\n",
       "      <th>repurchase_rate</th>\n",
       "      <th>products_per_sale</th>\n",
       "      <th>total_transactions</th>\n",
       "      <th>total_spent</th>\n",
       "      <th>proportion_categories</th>\n",
       "      <th>avg_spent_transaction</th>\n",
       "      <th>avg_quant_item</th>\n",
       "      <th>sku_category_sd</th>\n",
       "      <th>transaction_rate_trump</th>\n",
       "      <th>Price</th>\n",
       "    </tr>\n",
       "  </thead>\n",
       "  <tbody>\n",
       "    <tr>\n",
       "      <th>Week</th>\n",
       "      <td>1.000000</td>\n",
       "      <td>-0.128606</td>\n",
       "      <td>-0.007314</td>\n",
       "      <td>0.103458</td>\n",
       "      <td>0.102741</td>\n",
       "      <td>0.101707</td>\n",
       "      <td>-0.000694</td>\n",
       "      <td>0.004120</td>\n",
       "      <td>0.050178</td>\n",
       "      <td>NaN</td>\n",
       "      <td>0.013371</td>\n",
       "    </tr>\n",
       "    <tr>\n",
       "      <th>repurchase_rate</th>\n",
       "      <td>-0.128606</td>\n",
       "      <td>1.000000</td>\n",
       "      <td>-0.134717</td>\n",
       "      <td>-0.601612</td>\n",
       "      <td>-0.591943</td>\n",
       "      <td>-0.490777</td>\n",
       "      <td>-0.361208</td>\n",
       "      <td>-0.067219</td>\n",
       "      <td>-0.346760</td>\n",
       "      <td>NaN</td>\n",
       "      <td>-0.023604</td>\n",
       "    </tr>\n",
       "    <tr>\n",
       "      <th>products_per_sale</th>\n",
       "      <td>-0.007314</td>\n",
       "      <td>-0.134717</td>\n",
       "      <td>1.000000</td>\n",
       "      <td>0.124852</td>\n",
       "      <td>0.180901</td>\n",
       "      <td>0.131686</td>\n",
       "      <td>0.487218</td>\n",
       "      <td>0.755438</td>\n",
       "      <td>0.563676</td>\n",
       "      <td>NaN</td>\n",
       "      <td>0.021133</td>\n",
       "    </tr>\n",
       "    <tr>\n",
       "      <th>total_transactions</th>\n",
       "      <td>0.103458</td>\n",
       "      <td>-0.601612</td>\n",
       "      <td>0.124852</td>\n",
       "      <td>1.000000</td>\n",
       "      <td>0.855015</td>\n",
       "      <td>0.899923</td>\n",
       "      <td>0.392578</td>\n",
       "      <td>0.045644</td>\n",
       "      <td>0.359480</td>\n",
       "      <td>NaN</td>\n",
       "      <td>0.011757</td>\n",
       "    </tr>\n",
       "    <tr>\n",
       "      <th>total_spent</th>\n",
       "      <td>0.102741</td>\n",
       "      <td>-0.591943</td>\n",
       "      <td>0.180901</td>\n",
       "      <td>0.855015</td>\n",
       "      <td>1.000000</td>\n",
       "      <td>0.769255</td>\n",
       "      <td>0.426130</td>\n",
       "      <td>0.077755</td>\n",
       "      <td>0.380050</td>\n",
       "      <td>NaN</td>\n",
       "      <td>0.114363</td>\n",
       "    </tr>\n",
       "    <tr>\n",
       "      <th>proportion_categories</th>\n",
       "      <td>0.101707</td>\n",
       "      <td>-0.490777</td>\n",
       "      <td>0.131686</td>\n",
       "      <td>0.899923</td>\n",
       "      <td>0.769255</td>\n",
       "      <td>1.000000</td>\n",
       "      <td>0.406568</td>\n",
       "      <td>0.041340</td>\n",
       "      <td>0.278992</td>\n",
       "      <td>NaN</td>\n",
       "      <td>0.021260</td>\n",
       "    </tr>\n",
       "    <tr>\n",
       "      <th>avg_spent_transaction</th>\n",
       "      <td>-0.000694</td>\n",
       "      <td>-0.361208</td>\n",
       "      <td>0.487218</td>\n",
       "      <td>0.392578</td>\n",
       "      <td>0.426130</td>\n",
       "      <td>0.406568</td>\n",
       "      <td>1.000000</td>\n",
       "      <td>0.062428</td>\n",
       "      <td>0.195262</td>\n",
       "      <td>NaN</td>\n",
       "      <td>0.033241</td>\n",
       "    </tr>\n",
       "    <tr>\n",
       "      <th>avg_quant_item</th>\n",
       "      <td>0.004120</td>\n",
       "      <td>-0.067219</td>\n",
       "      <td>0.755438</td>\n",
       "      <td>0.045644</td>\n",
       "      <td>0.077755</td>\n",
       "      <td>0.041340</td>\n",
       "      <td>0.062428</td>\n",
       "      <td>1.000000</td>\n",
       "      <td>0.538480</td>\n",
       "      <td>NaN</td>\n",
       "      <td>0.003807</td>\n",
       "    </tr>\n",
       "    <tr>\n",
       "      <th>sku_category_sd</th>\n",
       "      <td>0.050178</td>\n",
       "      <td>-0.346760</td>\n",
       "      <td>0.563676</td>\n",
       "      <td>0.359480</td>\n",
       "      <td>0.380050</td>\n",
       "      <td>0.278992</td>\n",
       "      <td>0.195262</td>\n",
       "      <td>0.538480</td>\n",
       "      <td>1.000000</td>\n",
       "      <td>NaN</td>\n",
       "      <td>0.003620</td>\n",
       "    </tr>\n",
       "    <tr>\n",
       "      <th>transaction_rate_trump</th>\n",
       "      <td>NaN</td>\n",
       "      <td>NaN</td>\n",
       "      <td>NaN</td>\n",
       "      <td>NaN</td>\n",
       "      <td>NaN</td>\n",
       "      <td>NaN</td>\n",
       "      <td>NaN</td>\n",
       "      <td>NaN</td>\n",
       "      <td>NaN</td>\n",
       "      <td>NaN</td>\n",
       "      <td>NaN</td>\n",
       "    </tr>\n",
       "    <tr>\n",
       "      <th>Price</th>\n",
       "      <td>0.013371</td>\n",
       "      <td>-0.023604</td>\n",
       "      <td>0.021133</td>\n",
       "      <td>0.011757</td>\n",
       "      <td>0.114363</td>\n",
       "      <td>0.021260</td>\n",
       "      <td>0.033241</td>\n",
       "      <td>0.003807</td>\n",
       "      <td>0.003620</td>\n",
       "      <td>NaN</td>\n",
       "      <td>1.000000</td>\n",
       "    </tr>\n",
       "  </tbody>\n",
       "</table>\n",
       "</div>"
      ],
      "text/plain": [
       "                            Week  repurchase_rate  products_per_sale  \\\n",
       "Week                    1.000000        -0.128606          -0.007314   \n",
       "repurchase_rate        -0.128606         1.000000          -0.134717   \n",
       "products_per_sale      -0.007314        -0.134717           1.000000   \n",
       "total_transactions      0.103458        -0.601612           0.124852   \n",
       "total_spent             0.102741        -0.591943           0.180901   \n",
       "proportion_categories   0.101707        -0.490777           0.131686   \n",
       "avg_spent_transaction  -0.000694        -0.361208           0.487218   \n",
       "avg_quant_item          0.004120        -0.067219           0.755438   \n",
       "sku_category_sd         0.050178        -0.346760           0.563676   \n",
       "transaction_rate_trump       NaN              NaN                NaN   \n",
       "Price                   0.013371        -0.023604           0.021133   \n",
       "\n",
       "                        total_transactions  total_spent  \\\n",
       "Week                              0.103458     0.102741   \n",
       "repurchase_rate                  -0.601612    -0.591943   \n",
       "products_per_sale                 0.124852     0.180901   \n",
       "total_transactions                1.000000     0.855015   \n",
       "total_spent                       0.855015     1.000000   \n",
       "proportion_categories             0.899923     0.769255   \n",
       "avg_spent_transaction             0.392578     0.426130   \n",
       "avg_quant_item                    0.045644     0.077755   \n",
       "sku_category_sd                   0.359480     0.380050   \n",
       "transaction_rate_trump                 NaN          NaN   \n",
       "Price                             0.011757     0.114363   \n",
       "\n",
       "                        proportion_categories  avg_spent_transaction  \\\n",
       "Week                                 0.101707              -0.000694   \n",
       "repurchase_rate                     -0.490777              -0.361208   \n",
       "products_per_sale                    0.131686               0.487218   \n",
       "total_transactions                   0.899923               0.392578   \n",
       "total_spent                          0.769255               0.426130   \n",
       "proportion_categories                1.000000               0.406568   \n",
       "avg_spent_transaction                0.406568               1.000000   \n",
       "avg_quant_item                       0.041340               0.062428   \n",
       "sku_category_sd                      0.278992               0.195262   \n",
       "transaction_rate_trump                    NaN                    NaN   \n",
       "Price                                0.021260               0.033241   \n",
       "\n",
       "                        avg_quant_item  sku_category_sd  \\\n",
       "Week                          0.004120         0.050178   \n",
       "repurchase_rate              -0.067219        -0.346760   \n",
       "products_per_sale             0.755438         0.563676   \n",
       "total_transactions            0.045644         0.359480   \n",
       "total_spent                   0.077755         0.380050   \n",
       "proportion_categories         0.041340         0.278992   \n",
       "avg_spent_transaction         0.062428         0.195262   \n",
       "avg_quant_item                1.000000         0.538480   \n",
       "sku_category_sd               0.538480         1.000000   \n",
       "transaction_rate_trump             NaN              NaN   \n",
       "Price                         0.003807         0.003620   \n",
       "\n",
       "                        transaction_rate_trump     Price  \n",
       "Week                                       NaN  0.013371  \n",
       "repurchase_rate                            NaN -0.023604  \n",
       "products_per_sale                          NaN  0.021133  \n",
       "total_transactions                         NaN  0.011757  \n",
       "total_spent                                NaN  0.114363  \n",
       "proportion_categories                      NaN  0.021260  \n",
       "avg_spent_transaction                      NaN  0.033241  \n",
       "avg_quant_item                             NaN  0.003807  \n",
       "sku_category_sd                            NaN  0.003620  \n",
       "transaction_rate_trump                     NaN       NaN  \n",
       "Price                                      NaN  1.000000  "
      ]
     },
     "execution_count": 21,
     "metadata": {},
     "output_type": "execute_result"
    }
   ],
   "source": [
    "X.corr()"
   ]
  },
  {
   "cell_type": "markdown",
   "metadata": {},
   "source": [
    "As you can see in the heatmap below, there is high correlation between total transactions and total spent, proportion categories and total spent, SKU category and products per sale, products per sale and average quantity per transaction, and SKU Category and average quantity per transaction. "
   ]
  },
  {
   "cell_type": "code",
   "execution_count": 22,
   "metadata": {},
   "outputs": [
    {
     "data": {
      "image/png": "[encoded data removed]",
      "text/plain": [
       "<Figure size 432x288 with 2 Axes>"
      ]
     },
     "metadata": {
      "needs_background": "light"
     },
     "output_type": "display_data"
    }
   ],
   "source": [
    "import seaborn as sn\n",
    "import matplotlib.pyplot as plt\n",
    "sn.heatmap(X.corr(), annot=True)\n",
    "plt.show()"
   ]
  },
  {
   "cell_type": "markdown",
   "metadata": {},
   "source": [
    "# What Worked:"
   ]
  },
  {
   "cell_type": "markdown",
   "metadata": {},
   "source": [
    "### Question 4"
   ]
  },
  {
   "cell_type": "code",
   "execution_count": 23,
   "metadata": {},
   "outputs": [],
   "source": [
    "columns = [7, 8, 9, 10, 11, 12, 13, 14, 15, 16, 18]\n",
    "X = final_df.iloc[:, columns].values.tolist()"
   ]
  },
  {
   "cell_type": "code",
   "execution_count": 24,
   "metadata": {},
   "outputs": [],
   "source": [
    "Y = final_df.iloc[:, -2]"
   ]
  },
  {
   "cell_type": "code",
   "execution_count": 25,
   "metadata": {},
   "outputs": [],
   "source": [
    "X_train, X_test, y_train, y_test = sklearn.model_selection.train_test_split(X, Y, test_size = 0.3, random_state=42)"
   ]
  },
  {
   "cell_type": "code",
   "execution_count": 26,
   "metadata": {},
   "outputs": [],
   "source": [
    "training_skus = set(y_train.unique())\n",
    "all_skus = set(Y.unique())"
   ]
  },
  {
   "cell_type": "code",
   "execution_count": 27,
   "metadata": {},
   "outputs": [],
   "source": [
    "missing_skus = all_skus.difference(training_skus)"
   ]
  },
  {
   "cell_type": "code",
   "execution_count": 28,
   "metadata": {},
   "outputs": [],
   "source": [
    "add_to_X = []\n",
    "add_to_Y = []\n",
    "\n",
    "for num in missing_skus:\n",
    "    for l in final_df.loc[final_df['SKU_Map'] == num].iloc[:, columns].values.tolist():\n",
    "        add_to_X.append(l)\n",
    "        add_to_Y.append(num)  "
   ]
  },
  {
   "cell_type": "code",
   "execution_count": 29,
   "metadata": {},
   "outputs": [],
   "source": [
    "X_train.extend(add_to_X)"
   ]
  },
  {
   "cell_type": "code",
   "execution_count": 30,
   "metadata": {},
   "outputs": [],
   "source": [
    "y_train = list(y_train)\n",
    "y_train += add_to_Y"
   ]
  },
  {
   "cell_type": "code",
   "execution_count": 31,
   "metadata": {},
   "outputs": [
    {
     "data": {
      "text/plain": [
       "LogisticRegression(multi_class='multinomial', penalty='none', solver='saga')"
      ]
     },
     "execution_count": 31,
     "metadata": {},
     "output_type": "execute_result"
    }
   ],
   "source": [
    "model=sklearn.linear_model.LogisticRegression(multi_class='multinomial', penalty = 'none', solver='saga', max_iter=100)\n",
    "model"
   ]
  },
  {
   "cell_type": "code",
   "execution_count": 32,
   "metadata": {},
   "outputs": [],
   "source": [
    "#model.fit(X_train, y_train)"
   ]
  },
  {
   "cell_type": "code",
   "execution_count": 33,
   "metadata": {},
   "outputs": [
    {
     "data": {
      "text/plain": [
       "LogisticRegression(multi_class='multinomial', penalty='none', solver='saga')"
      ]
     },
     "execution_count": 33,
     "metadata": {},
     "output_type": "execute_result"
    }
   ],
   "source": [
    "import random\n",
    "import pickle\n",
    "filename = 'finalized_model.sav'\n",
    "model = pickle.load(open(filename, 'rb'))\n",
    "model"
   ]
  },
  {
   "cell_type": "code",
   "execution_count": 34,
   "metadata": {},
   "outputs": [],
   "source": [
    "columns = [1, 7, 8, 9, 10, 11, 12, 13, 14, 15, 16, 18]\n",
    "sampling_df = final_df.iloc[:, columns]"
   ]
  },
  {
   "cell_type": "markdown",
   "metadata": {},
   "source": [
    "Beta values for first example SKU (mapped to integer classes):"
   ]
  },
  {
   "cell_type": "code",
   "execution_count": 35,
   "metadata": {},
   "outputs": [
    {
     "data": {
      "text/plain": [
       "array([ 8.13745101e-04,  1.47662664e-05, -2.39578119e-04,  1.34257865e-03,\n",
       "        4.63629584e-03,  3.51137803e-06, -3.60251265e-04, -3.72222617e-05,\n",
       "       -2.44139942e-04,  2.97489853e-05, -1.17162354e-03])"
      ]
     },
     "execution_count": 35,
     "metadata": {},
     "output_type": "execute_result"
    }
   ],
   "source": [
    "model.coef_[0]"
   ]
  },
  {
   "cell_type": "markdown",
   "metadata": {},
   "source": [
    "Intercept (bias) of first SKU: "
   ]
  },
  {
   "cell_type": "code",
   "execution_count": 36,
   "metadata": {},
   "outputs": [
    {
     "data": {
      "text/plain": [
       "2.9748985269531415e-05"
      ]
     },
     "execution_count": 36,
     "metadata": {},
     "output_type": "execute_result"
    }
   ],
   "source": [
    "model.intercept_[0]"
   ]
  },
  {
   "cell_type": "markdown",
   "metadata": {},
   "source": [
    "We can now calculate utility of item j for customer i with a simple dot product"
   ]
  },
  {
   "cell_type": "markdown",
   "metadata": {},
   "source": [
    "Let customer i = 2547 and j is the first SKU (mapped to 0)"
   ]
  },
  {
   "cell_type": "code",
   "execution_count": 37,
   "metadata": {},
   "outputs": [
    {
     "data": {
      "text/plain": [
       "0.5747735746746226"
      ]
     },
     "execution_count": 37,
     "metadata": {},
     "output_type": "execute_result"
    }
   ],
   "source": [
    "np.dot(model.coef_[0], np.array(sampling_df.loc[sampling_df['Customer_ID'] == 2547].iloc[0].tolist()[1:])) + model.intercept_[0]"
   ]
  },
  {
   "cell_type": "markdown",
   "metadata": {},
   "source": [
    "Let's move on to interpretting and finding value of these results and running simulations"
   ]
  },
  {
   "cell_type": "markdown",
   "metadata": {},
   "source": [
    "# Project Part 2"
   ]
  },
  {
   "cell_type": "markdown",
   "metadata": {},
   "source": [
    "### Question 1"
   ]
  },
  {
   "cell_type": "markdown",
   "metadata": {},
   "source": [
    "Epsilon-Greedy Multi-Arm Bandit Algorithm:"
   ]
  },
  {
   "cell_type": "code",
   "execution_count": 38,
   "metadata": {},
   "outputs": [],
   "source": [
    "def decide(customer_id):\n",
    "    \n",
    "    products = [None] * len(model.coef_)\n",
    "    products[0] = 0\n",
    "    data = [None] * len(model.coef_)\n",
    "    data[0] = 0\n",
    "    eps = 0.2\n",
    "    \n",
    "    for i in range(1, len(model.coef_)): \n",
    "        p = np.random.random()\n",
    "        rand = random.choice(list(range(0, len(model.coef_))))\n",
    "\n",
    "        if p < eps:\n",
    "            utility = np.dot(model.coef_[rand], np.array(sampling_df.loc[sampling_df['Customer_ID'] == customer_id].iloc[0].tolist()[1:])) + model.intercept_[rand]\n",
    "        else:\n",
    "            utility = data[np.argmax(data[0:i])]\n",
    "        \n",
    "        data[i] = max(utility, data[i - 1]) \n",
    "        \n",
    "        if data[i - 1] >= utility:\n",
    "            products[i] = products[i - 1]\n",
    "        else:\n",
    "            products[i] = rand\n",
    "            \n",
    "    max_utility = data[-1]\n",
    "    sku = final_df.loc[final_df['SKU_Map'] == products[-1]].iloc[0].tolist()[4]\n",
    "        \n",
    "    return [sku, data[-1]]"
   ]
  },
  {
   "cell_type": "markdown",
   "metadata": {},
   "source": [
    "Test Decision Algorithm by Inputting Any Customer_ID (ex. 2547)"
   ]
  },
  {
   "cell_type": "code",
   "execution_count": 39,
   "metadata": {},
   "outputs": [
    {
     "data": {
      "text/plain": [
       "['TL4WZ', 1.5525786311683019]"
      ]
     },
     "execution_count": 39,
     "metadata": {},
     "output_type": "execute_result"
    }
   ],
   "source": [
    "decide(2547)"
   ]
  },
  {
   "cell_type": "markdown",
   "metadata": {},
   "source": [
    "Rewards Difference function calculates the difference between the maximum utility and average utility of a customer"
   ]
  },
  {
   "cell_type": "code",
   "execution_count": 40,
   "metadata": {},
   "outputs": [],
   "source": [
    "def rewards_difference(customer_id):\n",
    "    products = [None] * len(model.coef_)\n",
    "    products[0] = 0\n",
    "    \n",
    "    data = [None] * len(model.coef_)\n",
    "    data[0] = 0\n",
    "\n",
    "    eps = 0.2\n",
    "    \n",
    "    for i in range(1, 100): \n",
    "        p = np.random.random()\n",
    "        rand = random.choice(list(range(0, len(model.coef_))))\n",
    "\n",
    "        if p < eps:\n",
    "            utility = np.dot(model.coef_[rand], np.array(sampling_df.loc[sampling_df['Customer_ID'] == customer_id].iloc[0].tolist()[1:])) + model.intercept_[rand]\n",
    "        \n",
    "        else:\n",
    "            utility = data[np.argmax(data[0:i])]\n",
    "        \n",
    "        data[i] = max(utility, data[i - 1])\n",
    "        \n",
    "        if data[i - 1] >= utility:\n",
    "            products[i] = products[i -1]\n",
    "        \n",
    "        else:\n",
    "            products[i] = rand\n",
    "    \n",
    "    max_utility = decide(customer_id)[1]\n",
    "    utility_100_iter = data[99]\n",
    "    delta = max_utility - utility_100_iter\n",
    "        \n",
    "    return delta"
   ]
  },
  {
   "cell_type": "code",
   "execution_count": 41,
   "metadata": {},
   "outputs": [
    {
     "data": {
      "text/plain": [
       "0.210800584273531"
      ]
     },
     "execution_count": 41,
     "metadata": {},
     "output_type": "execute_result"
    }
   ],
   "source": [
    "rewards_difference(2547)"
   ]
  },
  {
   "cell_type": "markdown",
   "metadata": {},
   "source": [
    "### Question 2"
   ]
  },
  {
   "cell_type": "markdown",
   "metadata": {},
   "source": [
    "Function that tracks iteration progress of a loop"
   ]
  },
  {
   "cell_type": "code",
   "execution_count": 42,
   "metadata": {},
   "outputs": [],
   "source": [
    "def update_progress(progress):\n",
    "    bar_length = 20\n",
    "    if isinstance(progress, int):\n",
    "        progress = float(progress)\n",
    "    if not isinstance(progress, float):\n",
    "        progress = 0\n",
    "    if progress < 0:\n",
    "        progress = 0\n",
    "    if progress >= 1:\n",
    "        progress = 1\n",
    "    block = int(round(bar_length * progress))\n",
    "    clear_output(wait = True)\n",
    "    text = \"Progress: [{0}] {1:.1f}%\".format( \"#\" * block + \"-\" * (bar_length - block), progress * 100)\n",
    "    print(text)"
   ]
  },
  {
   "cell_type": "markdown",
   "metadata": {},
   "source": [
    "Simulation of average of 1000 reward differences for randomly selected cutomers"
   ]
  },
  {
   "cell_type": "code",
   "execution_count": 43,
   "metadata": {},
   "outputs": [],
   "source": [
    "def simulation():\n",
    "    \n",
    "    get_rand_customers = random.sample(list(final_df['Customer_ID'].unique()), 1000)\n",
    "    sum = 0\n",
    "    \n",
    "    for i in range(len(get_rand_customers)):\n",
    "        sum += rewards_difference(get_rand_customers[i])\n",
    "        update_progress(i / 999)\n",
    "        \n",
    "    return sum / 1000"
   ]
  },
  {
   "cell_type": "code",
   "execution_count": 44,
   "metadata": {},
   "outputs": [
    {
     "name": "stdout",
     "output_type": "stream",
     "text": [
      "Progress: [####################] 100.0%\n"
     ]
    },
    {
     "data": {
      "text/plain": [
       "1.3319112337643444"
      ]
     },
     "execution_count": 44,
     "metadata": {},
     "output_type": "execute_result"
    }
   ],
   "source": [
    "simulation()"
   ]
  },
  {
   "cell_type": "markdown",
   "metadata": {},
   "source": [
    "For 1000 customers, the average of the difference between the maximum utility of a customer and mean utility they have for 100 random products is about 1.22."
   ]
  },
  {
   "cell_type": "markdown",
   "metadata": {},
   "source": [
    "The reason there is such a large difference is because customers have unique features which favor some products over others. The products with the highest utility are likely to be be very different from the average utility of many products for a given customer. We know economically, by preference and choice that consumers value more goods with liitle utility and few goods with high utility. This intuitively explains why the simulation output is significant."
   ]
  },
  {
   "cell_type": "markdown",
   "metadata": {},
   "source": [
    "<h2>Failures and Learning</h2>"
   ]
  },
  {
   "cell_type": "markdown",
   "metadata": {},
   "source": [
    "While we were doing this project, we tried many ways to solve this problem. The way above works. However, we also wanted to show you our failed attempts and why they failed.\n",
    "\n",
    "Below, we have our first failed data organization approach. The reason this failed was because we were taking the number of weeks each SKU was bought as an array value of per customer per SKU. This made it harder on our analysis because we weren't able to derive the no_show variable easily from this and regress it into our model. Instead, we were trying to calculate the probability that a customer has utility for a SKU by determining whether or not they bought the product, rather than a regression of the features developed."
   ]
  },
  {
   "cell_type": "code",
   "execution_count": 45,
   "metadata": {},
   "outputs": [
    {
     "data": {
      "text/html": [
       "<div>\n",
       "<style scoped>\n",
       "    .dataframe tbody tr th:only-of-type {\n",
       "        vertical-align: middle;\n",
       "    }\n",
       "\n",
       "    .dataframe tbody tr th {\n",
       "        vertical-align: top;\n",
       "    }\n",
       "\n",
       "    .dataframe thead th {\n",
       "        text-align: right;\n",
       "    }\n",
       "</style>\n",
       "<table border=\"1\" class=\"dataframe\">\n",
       "  <thead>\n",
       "    <tr style=\"text-align: right;\">\n",
       "      <th></th>\n",
       "      <th>Customer_ID</th>\n",
       "      <th>SKU</th>\n",
       "      <th>Weeks</th>\n",
       "      <th>Probability</th>\n",
       "      <th>Average Repurchase Time (Customer)</th>\n",
       "      <th>Average Repurchase Time (SKU)</th>\n",
       "      <th>Repurchase Slope</th>\n",
       "      <th>Returning Customer</th>\n",
       "      <th>Price</th>\n",
       "      <th>Quantity</th>\n",
       "    </tr>\n",
       "  </thead>\n",
       "  <tbody>\n",
       "    <tr>\n",
       "      <th>0</th>\n",
       "      <td>2547</td>\n",
       "      <td>0EM7L</td>\n",
       "      <td>[0]</td>\n",
       "      <td>1</td>\n",
       "      <td>363.0</td>\n",
       "      <td>0</td>\n",
       "      <td>363.0</td>\n",
       "      <td>0.0</td>\n",
       "      <td>3.13</td>\n",
       "      <td>1.0</td>\n",
       "    </tr>\n",
       "    <tr>\n",
       "      <th>1</th>\n",
       "      <td>2547</td>\n",
       "      <td>MM3E0</td>\n",
       "      <td>[1]</td>\n",
       "      <td>1</td>\n",
       "      <td>363.0</td>\n",
       "      <td>0</td>\n",
       "      <td>363.0</td>\n",
       "      <td>0.0</td>\n",
       "      <td>12.69</td>\n",
       "      <td>1.0</td>\n",
       "    </tr>\n",
       "    <tr>\n",
       "      <th>2</th>\n",
       "      <td>2547</td>\n",
       "      <td>885U7</td>\n",
       "      <td>[4, 12]</td>\n",
       "      <td>1</td>\n",
       "      <td>2.0</td>\n",
       "      <td>0</td>\n",
       "      <td>2.0</td>\n",
       "      <td>1.0</td>\n",
       "      <td>4.95</td>\n",
       "      <td>1.0</td>\n",
       "    </tr>\n",
       "    <tr>\n",
       "      <th>3</th>\n",
       "      <td>2547</td>\n",
       "      <td>A59HR</td>\n",
       "      <td>[4]</td>\n",
       "      <td>1</td>\n",
       "      <td>363.0</td>\n",
       "      <td>0</td>\n",
       "      <td>363.0</td>\n",
       "      <td>0.0</td>\n",
       "      <td>2.08</td>\n",
       "      <td>3.0</td>\n",
       "    </tr>\n",
       "    <tr>\n",
       "      <th>4</th>\n",
       "      <td>2547</td>\n",
       "      <td>7W8WS</td>\n",
       "      <td>[8]</td>\n",
       "      <td>1</td>\n",
       "      <td>363.0</td>\n",
       "      <td>0</td>\n",
       "      <td>363.0</td>\n",
       "      <td>0.0</td>\n",
       "      <td>11.75</td>\n",
       "      <td>1.0</td>\n",
       "    </tr>\n",
       "  </tbody>\n",
       "</table>\n",
       "</div>"
      ],
      "text/plain": [
       "   Customer_ID    SKU    Weeks  Probability  \\\n",
       "0         2547  0EM7L      [0]            1   \n",
       "1         2547  MM3E0      [1]            1   \n",
       "2         2547  885U7  [4, 12]            1   \n",
       "3         2547  A59HR      [4]            1   \n",
       "4         2547  7W8WS      [8]            1   \n",
       "\n",
       "   Average Repurchase Time (Customer)  Average Repurchase Time (SKU)  \\\n",
       "0                               363.0                              0   \n",
       "1                               363.0                              0   \n",
       "2                                 2.0                              0   \n",
       "3                               363.0                              0   \n",
       "4                               363.0                              0   \n",
       "\n",
       "   Repurchase Slope  Returning Customer  Price  Quantity  \n",
       "0             363.0                 0.0   3.13       1.0  \n",
       "1             363.0                 0.0  12.69       1.0  \n",
       "2               2.0                 1.0   4.95       1.0  \n",
       "3             363.0                 0.0   2.08       3.0  \n",
       "4             363.0                 0.0  11.75       1.0  "
      ]
     },
     "execution_count": 45,
     "metadata": {},
     "output_type": "execute_result"
    }
   ],
   "source": [
    "df_fail1 = pd.read_csv(\"data.csv\")\n",
    "df_fail1.head()"
   ]
  },
  {
   "cell_type": "markdown",
   "metadata": {},
   "source": [
    "The second failure was when we organized our customer purchases as a tally of purchases in each SKU Category and added that as a column. We then calculated no show as the total number of dates minus the number of dates a product was bought. This failed because there was no clear way to get from our purchase tallies to a logistic regression that predicted the probability of utility."
   ]
  },
  {
   "cell_type": "code",
   "execution_count": 46,
   "metadata": {},
   "outputs": [
    {
     "data": {
      "text/html": [
       "<div>\n",
       "<style scoped>\n",
       "    .dataframe tbody tr th:only-of-type {\n",
       "        vertical-align: middle;\n",
       "    }\n",
       "\n",
       "    .dataframe tbody tr th {\n",
       "        vertical-align: top;\n",
       "    }\n",
       "\n",
       "    .dataframe thead th {\n",
       "        text-align: right;\n",
       "    }\n",
       "</style>\n",
       "<table border=\"1\" class=\"dataframe\">\n",
       "  <thead>\n",
       "    <tr style=\"text-align: right;\">\n",
       "      <th></th>\n",
       "      <th>Customer_ID</th>\n",
       "      <th>X52</th>\n",
       "      <th>2ML</th>\n",
       "      <th>0H2</th>\n",
       "      <th>JPI</th>\n",
       "      <th>XG4</th>\n",
       "      <th>FEW</th>\n",
       "      <th>N5F</th>\n",
       "      <th>H8O</th>\n",
       "      <th>N8U</th>\n",
       "      <th>...</th>\n",
       "      <th>no_show</th>\n",
       "      <th>repurchase_rate</th>\n",
       "      <th>products_per_sale</th>\n",
       "      <th>total_transactions</th>\n",
       "      <th>total_spent</th>\n",
       "      <th>proportion_categories</th>\n",
       "      <th>avg_spent_transaction</th>\n",
       "      <th>avg_quant_item</th>\n",
       "      <th>sku_category_sd</th>\n",
       "      <th>transaction_rate_trump</th>\n",
       "    </tr>\n",
       "  </thead>\n",
       "  <tbody>\n",
       "    <tr>\n",
       "      <th>0</th>\n",
       "      <td>2547</td>\n",
       "      <td>4</td>\n",
       "      <td>0</td>\n",
       "      <td>0</td>\n",
       "      <td>0</td>\n",
       "      <td>0</td>\n",
       "      <td>0</td>\n",
       "      <td>1</td>\n",
       "      <td>0</td>\n",
       "      <td>2</td>\n",
       "      <td>...</td>\n",
       "      <td>347.0</td>\n",
       "      <td>0.875000</td>\n",
       "      <td>3.142857</td>\n",
       "      <td>16</td>\n",
       "      <td>121.36</td>\n",
       "      <td>0.058824</td>\n",
       "      <td>12.714286</td>\n",
       "      <td>1.375000</td>\n",
       "      <td>1.595448</td>\n",
       "      <td>1</td>\n",
       "    </tr>\n",
       "    <tr>\n",
       "      <th>1</th>\n",
       "      <td>822</td>\n",
       "      <td>0</td>\n",
       "      <td>1</td>\n",
       "      <td>0</td>\n",
       "      <td>0</td>\n",
       "      <td>0</td>\n",
       "      <td>0</td>\n",
       "      <td>0</td>\n",
       "      <td>0</td>\n",
       "      <td>0</td>\n",
       "      <td>...</td>\n",
       "      <td>358.0</td>\n",
       "      <td>1.000000</td>\n",
       "      <td>1.666667</td>\n",
       "      <td>5</td>\n",
       "      <td>20.40</td>\n",
       "      <td>0.021390</td>\n",
       "      <td>8.333333</td>\n",
       "      <td>1.000000</td>\n",
       "      <td>0.433013</td>\n",
       "      <td>1</td>\n",
       "    </tr>\n",
       "    <tr>\n",
       "      <th>2</th>\n",
       "      <td>3686</td>\n",
       "      <td>3</td>\n",
       "      <td>0</td>\n",
       "      <td>4</td>\n",
       "      <td>0</td>\n",
       "      <td>0</td>\n",
       "      <td>1</td>\n",
       "      <td>0</td>\n",
       "      <td>0</td>\n",
       "      <td>3</td>\n",
       "      <td>...</td>\n",
       "      <td>313.0</td>\n",
       "      <td>0.860000</td>\n",
       "      <td>4.200000</td>\n",
       "      <td>50</td>\n",
       "      <td>405.44</td>\n",
       "      <td>0.133690</td>\n",
       "      <td>22.800000</td>\n",
       "      <td>1.260000</td>\n",
       "      <td>1.652150</td>\n",
       "      <td>1</td>\n",
       "    </tr>\n",
       "    <tr>\n",
       "      <th>3</th>\n",
       "      <td>3719</td>\n",
       "      <td>0</td>\n",
       "      <td>0</td>\n",
       "      <td>2</td>\n",
       "      <td>0</td>\n",
       "      <td>1</td>\n",
       "      <td>0</td>\n",
       "      <td>0</td>\n",
       "      <td>0</td>\n",
       "      <td>3</td>\n",
       "      <td>...</td>\n",
       "      <td>316.0</td>\n",
       "      <td>0.765957</td>\n",
       "      <td>7.000000</td>\n",
       "      <td>47</td>\n",
       "      <td>420.72</td>\n",
       "      <td>0.117647</td>\n",
       "      <td>33.400000</td>\n",
       "      <td>1.489362</td>\n",
       "      <td>2.102733</td>\n",
       "      <td>1</td>\n",
       "    </tr>\n",
       "    <tr>\n",
       "      <th>4</th>\n",
       "      <td>9200</td>\n",
       "      <td>0</td>\n",
       "      <td>0</td>\n",
       "      <td>1</td>\n",
       "      <td>0</td>\n",
       "      <td>0</td>\n",
       "      <td>0</td>\n",
       "      <td>0</td>\n",
       "      <td>0</td>\n",
       "      <td>0</td>\n",
       "      <td>...</td>\n",
       "      <td>361.0</td>\n",
       "      <td>1.000000</td>\n",
       "      <td>1.000000</td>\n",
       "      <td>2</td>\n",
       "      <td>18.01</td>\n",
       "      <td>0.010695</td>\n",
       "      <td>4.000000</td>\n",
       "      <td>1.000000</td>\n",
       "      <td>0.000000</td>\n",
       "      <td>1</td>\n",
       "    </tr>\n",
       "    <tr>\n",
       "      <th>...</th>\n",
       "      <td>...</td>\n",
       "      <td>...</td>\n",
       "      <td>...</td>\n",
       "      <td>...</td>\n",
       "      <td>...</td>\n",
       "      <td>...</td>\n",
       "      <td>...</td>\n",
       "      <td>...</td>\n",
       "      <td>...</td>\n",
       "      <td>...</td>\n",
       "      <td>...</td>\n",
       "      <td>...</td>\n",
       "      <td>...</td>\n",
       "      <td>...</td>\n",
       "      <td>...</td>\n",
       "      <td>...</td>\n",
       "      <td>...</td>\n",
       "      <td>...</td>\n",
       "      <td>...</td>\n",
       "      <td>...</td>\n",
       "      <td>...</td>\n",
       "    </tr>\n",
       "    <tr>\n",
       "      <th>22620</th>\n",
       "      <td>14811</td>\n",
       "      <td>0</td>\n",
       "      <td>0</td>\n",
       "      <td>0</td>\n",
       "      <td>0</td>\n",
       "      <td>0</td>\n",
       "      <td>0</td>\n",
       "      <td>0</td>\n",
       "      <td>0</td>\n",
       "      <td>0</td>\n",
       "      <td>...</td>\n",
       "      <td>362.0</td>\n",
       "      <td>1.000000</td>\n",
       "      <td>1.000000</td>\n",
       "      <td>1</td>\n",
       "      <td>26.54</td>\n",
       "      <td>0.005348</td>\n",
       "      <td>3.000000</td>\n",
       "      <td>1.000000</td>\n",
       "      <td>0.000000</td>\n",
       "      <td>1</td>\n",
       "    </tr>\n",
       "    <tr>\n",
       "      <th>22621</th>\n",
       "      <td>3232</td>\n",
       "      <td>0</td>\n",
       "      <td>0</td>\n",
       "      <td>0</td>\n",
       "      <td>0</td>\n",
       "      <td>0</td>\n",
       "      <td>0</td>\n",
       "      <td>0</td>\n",
       "      <td>0</td>\n",
       "      <td>1</td>\n",
       "      <td>...</td>\n",
       "      <td>361.0</td>\n",
       "      <td>1.000000</td>\n",
       "      <td>2.000000</td>\n",
       "      <td>2</td>\n",
       "      <td>12.89</td>\n",
       "      <td>0.010695</td>\n",
       "      <td>8.000000</td>\n",
       "      <td>1.000000</td>\n",
       "      <td>0.000000</td>\n",
       "      <td>1</td>\n",
       "    </tr>\n",
       "    <tr>\n",
       "      <th>22622</th>\n",
       "      <td>5751</td>\n",
       "      <td>0</td>\n",
       "      <td>0</td>\n",
       "      <td>1</td>\n",
       "      <td>0</td>\n",
       "      <td>0</td>\n",
       "      <td>0</td>\n",
       "      <td>0</td>\n",
       "      <td>0</td>\n",
       "      <td>0</td>\n",
       "      <td>...</td>\n",
       "      <td>360.0</td>\n",
       "      <td>1.000000</td>\n",
       "      <td>3.000000</td>\n",
       "      <td>3</td>\n",
       "      <td>59.59</td>\n",
       "      <td>0.016043</td>\n",
       "      <td>14.000000</td>\n",
       "      <td>1.000000</td>\n",
       "      <td>0.000000</td>\n",
       "      <td>1</td>\n",
       "    </tr>\n",
       "    <tr>\n",
       "      <th>22623</th>\n",
       "      <td>10765</td>\n",
       "      <td>0</td>\n",
       "      <td>0</td>\n",
       "      <td>0</td>\n",
       "      <td>0</td>\n",
       "      <td>0</td>\n",
       "      <td>0</td>\n",
       "      <td>0</td>\n",
       "      <td>0</td>\n",
       "      <td>0</td>\n",
       "      <td>...</td>\n",
       "      <td>362.0</td>\n",
       "      <td>1.000000</td>\n",
       "      <td>1.000000</td>\n",
       "      <td>1</td>\n",
       "      <td>1.19</td>\n",
       "      <td>0.005348</td>\n",
       "      <td>3.000000</td>\n",
       "      <td>1.000000</td>\n",
       "      <td>0.000000</td>\n",
       "      <td>1</td>\n",
       "    </tr>\n",
       "    <tr>\n",
       "      <th>22624</th>\n",
       "      <td>11733</td>\n",
       "      <td>0</td>\n",
       "      <td>0</td>\n",
       "      <td>0</td>\n",
       "      <td>0</td>\n",
       "      <td>0</td>\n",
       "      <td>0</td>\n",
       "      <td>0</td>\n",
       "      <td>0</td>\n",
       "      <td>1</td>\n",
       "      <td>...</td>\n",
       "      <td>362.0</td>\n",
       "      <td>1.000000</td>\n",
       "      <td>1.000000</td>\n",
       "      <td>1</td>\n",
       "      <td>4.57</td>\n",
       "      <td>0.005348</td>\n",
       "      <td>3.000000</td>\n",
       "      <td>1.000000</td>\n",
       "      <td>0.000000</td>\n",
       "      <td>1</td>\n",
       "    </tr>\n",
       "  </tbody>\n",
       "</table>\n",
       "<p>22625 rows × 198 columns</p>\n",
       "</div>"
      ],
      "text/plain": [
       "       Customer_ID  X52  2ML  0H2  JPI  XG4  FEW  N5F  H8O  N8U  ...  no_show  \\\n",
       "0             2547    4    0    0    0    0    0    1    0    2  ...    347.0   \n",
       "1              822    0    1    0    0    0    0    0    0    0  ...    358.0   \n",
       "2             3686    3    0    4    0    0    1    0    0    3  ...    313.0   \n",
       "3             3719    0    0    2    0    1    0    0    0    3  ...    316.0   \n",
       "4             9200    0    0    1    0    0    0    0    0    0  ...    361.0   \n",
       "...            ...  ...  ...  ...  ...  ...  ...  ...  ...  ...  ...      ...   \n",
       "22620        14811    0    0    0    0    0    0    0    0    0  ...    362.0   \n",
       "22621         3232    0    0    0    0    0    0    0    0    1  ...    361.0   \n",
       "22622         5751    0    0    1    0    0    0    0    0    0  ...    360.0   \n",
       "22623        10765    0    0    0    0    0    0    0    0    0  ...    362.0   \n",
       "22624        11733    0    0    0    0    0    0    0    0    1  ...    362.0   \n",
       "\n",
       "       repurchase_rate  products_per_sale  total_transactions  total_spent  \\\n",
       "0             0.875000           3.142857                  16       121.36   \n",
       "1             1.000000           1.666667                   5        20.40   \n",
       "2             0.860000           4.200000                  50       405.44   \n",
       "3             0.765957           7.000000                  47       420.72   \n",
       "4             1.000000           1.000000                   2        18.01   \n",
       "...                ...                ...                 ...          ...   \n",
       "22620         1.000000           1.000000                   1        26.54   \n",
       "22621         1.000000           2.000000                   2        12.89   \n",
       "22622         1.000000           3.000000                   3        59.59   \n",
       "22623         1.000000           1.000000                   1         1.19   \n",
       "22624         1.000000           1.000000                   1         4.57   \n",
       "\n",
       "       proportion_categories  avg_spent_transaction  avg_quant_item  \\\n",
       "0                   0.058824              12.714286        1.375000   \n",
       "1                   0.021390               8.333333        1.000000   \n",
       "2                   0.133690              22.800000        1.260000   \n",
       "3                   0.117647              33.400000        1.489362   \n",
       "4                   0.010695               4.000000        1.000000   \n",
       "...                      ...                    ...             ...   \n",
       "22620               0.005348               3.000000        1.000000   \n",
       "22621               0.010695               8.000000        1.000000   \n",
       "22622               0.016043              14.000000        1.000000   \n",
       "22623               0.005348               3.000000        1.000000   \n",
       "22624               0.005348               3.000000        1.000000   \n",
       "\n",
       "       sku_category_sd  transaction_rate_trump  \n",
       "0             1.595448                       1  \n",
       "1             0.433013                       1  \n",
       "2             1.652150                       1  \n",
       "3             2.102733                       1  \n",
       "4             0.000000                       1  \n",
       "...                ...                     ...  \n",
       "22620         0.000000                       1  \n",
       "22621         0.000000                       1  \n",
       "22622         0.000000                       1  \n",
       "22623         0.000000                       1  \n",
       "22624         0.000000                       1  \n",
       "\n",
       "[22625 rows x 198 columns]"
      ]
     },
     "execution_count": 46,
     "metadata": {},
     "output_type": "execute_result"
    }
   ],
   "source": [
    "df_fail2 = pd.read_csv(\"newdata1.csv\")\n",
    "df_fail2"
   ]
  },
  {
   "cell_type": "markdown",
   "metadata": {},
   "source": [
    "Our failures in this project resulted from a lack of understanding regarding how to organize data for a logistic regression. All these are valid solutions when trying to organize data to get insight into customer purchase patterns. However, for logistic regression, our final solution (inspired by our previous failures) finds the most effective and simple way to analyze our data for the logistic regression.\n",
    "\n",
    "In fact, our final solution was a combination of our two previous solutions. In our final solution, we added a row for every week that a customer didn't show up. This is similar to how we calculated the number of weeks a customer showed up in our first solution.\n",
    "\n",
    "In our second solution, we were trying to regress our model against one SKU category. Essentially, the goal was to classify the optimal SKU category given a feature vector. In our final solution, we classified SKUs under SKU_map and used our feature vectors to find the optimal SKU classification for the customer.\n",
    "\n",
    "As such, without our failures, we wouldn't have been able to create our final solution. The effort and learning we put into this project are the key to our final solution's effectiveness.\n",
    "\n",
    "Spending nearly 200 hours on this project, talking with professors, and consulting with TAs was quite a difficult experience, but in the end a very rewarding journey in which we learned a tremendoes amount."
   ]
  },
  {
   "cell_type": "code",
   "execution_count": null,
   "metadata": {},
   "outputs": [],
   "source": []
  }
 ],
 "metadata": {
  "interpreter": {
   "hash": "6e279d88d82b5688bf4c3ccb1a46c0ac94341b5be30d7d3c0b4c2e638157e963"
  },
  "kernelspec": {
   "display_name": "Python 3 (ipykernel)",
   "language": "python",
   "name": "python3"
  },
  "language_info": {
   "codemirror_mode": {
    "name": "ipython",
    "version": 3
   },
   "file_extension": ".py",
   "mimetype": "text/x-python",
   "name": "python",
   "nbconvert_exporter": "python",
   "pygments_lexer": "ipython3",
   "version": "3.9.7"
  }
 },
 "nbformat": 4,
 "nbformat_minor": 4
}
